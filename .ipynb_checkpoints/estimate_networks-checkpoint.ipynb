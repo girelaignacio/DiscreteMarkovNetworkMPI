{
 "cells": [
  {
   "cell_type": "code",
   "execution_count": 1,
   "id": "f33e5497-795b-46b4-8f96-fe1bf7328afb",
   "metadata": {},
   "outputs": [],
   "source": [
    "import os\n",
    "import pandas as pd\n",
    "import numpy as np\n",
    "from discrete_gm_nonpos import discrete_graphical_model"
   ]
  },
  {
   "cell_type": "code",
   "execution_count": 2,
   "id": "adae9fe9-5b27-40d1-a61f-f6aa46e06695",
   "metadata": {},
   "outputs": [
    {
     "data": {
      "text/plain": [
       "'C:\\\\Users\\\\girel\\\\OneDrive\\\\Documentos\\\\DiscreteMarkovNetworkMPI'"
      ]
     },
     "execution_count": 2,
     "metadata": {},
     "output_type": "execute_result"
    }
   ],
   "source": [
    "os.getcwd()"
   ]
  },
  {
   "cell_type": "code",
   "execution_count": 3,
   "id": "cdbf0abd-0ace-4501-aace-836455ae974b",
   "metadata": {},
   "outputs": [],
   "source": [
    "dimensions_indicators = {\n",
    "    \"hl\" : [\"d_cm\",\"d_nutr\"],\n",
    "    \"ed\" : [\"d_satt\",\"d_educ\"],\n",
    "    \"ls\" : [\"d_elct\",\"d_wtr\",\"d_sani\",\"d_hsg\",\"d_ckfl\",\"d_asst\"]\n",
    "}"
   ]
  },
  {
   "cell_type": "code",
   "execution_count": 4,
   "id": "744f2c23-5325-4948-9e58-d864bee36c67",
   "metadata": {},
   "outputs": [],
   "source": [
    "def calculate_weights(mpi_indicators):\n",
    "    \"\"\"\n",
    "    Parameters:\n",
    "    mpi_indicators: dictionary\n",
    "    Computation of each dimension and indicators weigths following capability approach criterion\n",
    "\n",
    "    Returns two dictionaries: one with dimensions weigths and another with indicators weights\n",
    "    \"\"\"\n",
    "    dim_weights  = {}\n",
    "    indic_weights = {}\n",
    "    for key in mpi_indicators.keys():\n",
    "        weight = 1/len(mpi_indicators.keys())\n",
    "        dim_weights[key] = weight\n",
    "        for value in mpi_indicators[key]:\n",
    "            indic_weights[value] = weight / len(mpi_indicators[key])\n",
    "            \n",
    "    return dim_weights, indic_weights\n"
   ]
  },
  {
   "cell_type": "code",
   "execution_count": 5,
   "id": "817485c9-8a64-40da-abf2-257ad63b343a",
   "metadata": {},
   "outputs": [],
   "source": [
    "def deprivation_score(mpi_indicators,data):\n",
    "    dimensions_weights, indicators_weights = calculate_weights(mpi_indicators)\n",
    "    indicators_ = list(indicators_weights.keys())\n",
    "    mpi_data = data[indicators_]\n",
    "    #mpi_data = mpi_data.to_numpy()\n",
    "    for indicator in mpi_data.columns:\n",
    "        mpi_data[indicator] *= indicators_weights[indicator]\n",
    "    score = mpi_data.sum(axis=1)\n",
    "    \n",
    "    return score"
   ]
  },
  {
   "cell_type": "code",
   "execution_count": 6,
   "id": "cd22d719-ae02-4e8a-8a9b-1f1e3ac14b0b",
   "metadata": {},
   "outputs": [],
   "source": [
    "def censored_deprivation_score(deprivation_score, k):\n",
    "    censored_deprivation_score = np.where(deprivation_score >= k, deprivation_score, 0)\n",
    "    \n",
    "    return censored_deprivation_score"
   ]
  },
  {
   "cell_type": "code",
   "execution_count": 12,
   "id": "98a13429-6ade-49bc-91af-08984e8e0ea9",
   "metadata": {},
   "outputs": [
    {
     "name": "stdout",
     "output_type": "stream",
     "text": [
      "Working on arg_mics19-20\n"
     ]
    }
   ],
   "source": [
    "for filename in [os.listdir(\"./processed_data/\")[0]]:\n",
    "    print(\"Working on\", filename)\n",
    "    if filename not in os.listdir(\"./results/\"):\n",
    "        os.mkdir(\"./results/\"+ filename)\n",
    "        # read data\n",
    "        df = pd.read_csv(os.getcwd() + \"/processed_data/\"+ filename, index_col=0)\n",
    "        # clean data\n",
    "        df = df.dropna()\n",
    "        df = df.astype(int)\n",
    "        # calculate censored deprivation scores\n",
    "        c_k = censored_deprivation_score(deprivation_score(dimensions_indicators, df), 33/100)\n",
    "\n",
    "        # Prepare data\n",
    "        raw = np.zeros(df.shape[0]).reshape(-1,1)\n",
    "        mpi_poor =  np.where(c_k > 0, 1, 0).reshape(-1,1)\n",
    "\n",
    "        data = {'X':df.to_numpy(),\n",
    "                'raw': raw,\n",
    "                'mpi_poor' : mpi_poor}\n",
    "        # Run models\n",
    "        for i in [\"raw\",\"mpi_poor\"]:\n",
    "            Y = data[i]\n",
    "            X = data['X']\n",
    "            indx_nan=np.isnan(X).any(1)|np.isnan(Y).any(1)\n",
    "            Xclean = X[~indx_nan,:]\n",
    "            Yclean = Y[~indx_nan,:]\n",
    "            ci = discrete_graphical_model(np.linspace(1, 10,10), ncores = 4).estimate_CI(Xclean>0, Yclean>0)# only binary data allowed\n",
    "            for ic in range(len(ci['conserv'])):\n",
    "                np.savetxt(\"./results/\"+filename+\"/\"+filename+\"_\"+i+\"_\"+\"conservative_c\"+str(ic)+\".txt\", ci['conserv'][ic] , fmt=\"%5i\")\n",
    "                np.savetxt(\"./results/\"+filename+\"/\"+filename+\"_\"+i+\"_\"+\"nconservative_c\"+str(ic)+\".txt\", ci['nconserv'][ic] , fmt=\"%5i\")"
   ]
  }
 ],
 "metadata": {
  "kernelspec": {
   "display_name": "Python 3 (ipykernel)",
   "language": "python",
   "name": "python3"
  },
  "language_info": {
   "codemirror_mode": {
    "name": "ipython",
    "version": 3
   },
   "file_extension": ".py",
   "mimetype": "text/x-python",
   "name": "python",
   "nbconvert_exporter": "python",
   "pygments_lexer": "ipython3",
   "version": "3.11.4"
  }
 },
 "nbformat": 4,
 "nbformat_minor": 5
}
