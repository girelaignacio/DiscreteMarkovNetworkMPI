{
 "cells": [
  {
   "cell_type": "code",
   "execution_count": 24,
   "id": "3548633d-9f80-480e-8d03-293cbcb08443",
   "metadata": {},
   "outputs": [],
   "source": [
    "import os\n",
    "import pandas as pd\n",
    "import numpy as np\n",
    "from discrete_gm_nonpos import *"
   ]
  },
  {
   "cell_type": "code",
   "execution_count": 3,
   "id": "f49e6ee0-1a5d-435a-81fb-85da60cab6b1",
   "metadata": {},
   "outputs": [
    {
     "data": {
      "text/plain": [
       "True"
      ]
     },
     "execution_count": 3,
     "metadata": {},
     "output_type": "execute_result"
    }
   ],
   "source": [
    "os.path.exists(os.getcwd() + \"\\\\do-files\\\\MPI2023\")"
   ]
  },
  {
   "cell_type": "code",
   "execution_count": 4,
   "id": "33143215-58bc-405f-85d1-86b569b2b159",
   "metadata": {},
   "outputs": [],
   "source": [
    "mpi2023 = pd.read_csv(os.getcwd() + \"\\\\do-files\\\\MPI2023\\\\MPI2023_microdata.csv\")"
   ]
  },
  {
   "cell_type": "code",
   "execution_count": 5,
   "id": "f056f873-ede2-4c80-8adc-4d5c545e5053",
   "metadata": {
    "scrolled": true
   },
   "outputs": [
    {
     "data": {
      "text/html": [
       "<div>\n",
       "<style scoped>\n",
       "    .dataframe tbody tr th:only-of-type {\n",
       "        vertical-align: middle;\n",
       "    }\n",
       "\n",
       "    .dataframe tbody tr th {\n",
       "        vertical-align: top;\n",
       "    }\n",
       "\n",
       "    .dataframe thead th {\n",
       "        text-align: right;\n",
       "    }\n",
       "</style>\n",
       "<table border=\"1\" class=\"dataframe\">\n",
       "  <thead>\n",
       "    <tr style=\"text-align: right;\">\n",
       "      <th></th>\n",
       "      <th>hhid</th>\n",
       "      <th>hh_d_ni_noasis</th>\n",
       "      <th>hh_d_esc_retardada</th>\n",
       "      <th>hh_d_logro_min</th>\n",
       "      <th>hh_d_destotalmax</th>\n",
       "      <th>hh_d_subocup_max</th>\n",
       "      <th>hh_d_10a17_ocup</th>\n",
       "      <th>hh_d_no_afil</th>\n",
       "      <th>hh_d_jubi_pens</th>\n",
       "      <th>hh_d_materialidad</th>\n",
       "      <th>...</th>\n",
       "      <th>upm</th>\n",
       "      <th>nvivi</th>\n",
       "      <th>nhoga</th>\n",
       "      <th>dpto</th>\n",
       "      <th>area</th>\n",
       "      <th>pobrezai</th>\n",
       "      <th>pobnopoi</th>\n",
       "      <th>ing_tcm</th>\n",
       "      <th>tcm</th>\n",
       "      <th>estgeo</th>\n",
       "    </tr>\n",
       "  </thead>\n",
       "  <tbody>\n",
       "    <tr>\n",
       "      <th>0</th>\n",
       "      <td>00014_003_1</td>\n",
       "      <td>0</td>\n",
       "      <td>1</td>\n",
       "      <td>0</td>\n",
       "      <td>1</td>\n",
       "      <td>0</td>\n",
       "      <td>0</td>\n",
       "      <td>0</td>\n",
       "      <td>0</td>\n",
       "      <td>0</td>\n",
       "      <td>...</td>\n",
       "      <td>14</td>\n",
       "      <td>3</td>\n",
       "      <td>1</td>\n",
       "      <td>Asuncion</td>\n",
       "      <td>1</td>\n",
       "      <td>3</td>\n",
       "      <td>0</td>\n",
       "      <td>0.0</td>\n",
       "      <td>0</td>\n",
       "      <td>Asuncion</td>\n",
       "    </tr>\n",
       "    <tr>\n",
       "      <th>1</th>\n",
       "      <td>00014_020_1</td>\n",
       "      <td>0</td>\n",
       "      <td>0</td>\n",
       "      <td>0</td>\n",
       "      <td>0</td>\n",
       "      <td>0</td>\n",
       "      <td>0</td>\n",
       "      <td>1</td>\n",
       "      <td>0</td>\n",
       "      <td>0</td>\n",
       "      <td>...</td>\n",
       "      <td>14</td>\n",
       "      <td>20</td>\n",
       "      <td>1</td>\n",
       "      <td>Asuncion</td>\n",
       "      <td>1</td>\n",
       "      <td>3</td>\n",
       "      <td>0</td>\n",
       "      <td>0.0</td>\n",
       "      <td>0</td>\n",
       "      <td>Asuncion</td>\n",
       "    </tr>\n",
       "    <tr>\n",
       "      <th>2</th>\n",
       "      <td>00014_023_1</td>\n",
       "      <td>0</td>\n",
       "      <td>0</td>\n",
       "      <td>0</td>\n",
       "      <td>0</td>\n",
       "      <td>0</td>\n",
       "      <td>0</td>\n",
       "      <td>1</td>\n",
       "      <td>0</td>\n",
       "      <td>0</td>\n",
       "      <td>...</td>\n",
       "      <td>14</td>\n",
       "      <td>23</td>\n",
       "      <td>1</td>\n",
       "      <td>Asuncion</td>\n",
       "      <td>1</td>\n",
       "      <td>3</td>\n",
       "      <td>0</td>\n",
       "      <td>0.0</td>\n",
       "      <td>0</td>\n",
       "      <td>Asuncion</td>\n",
       "    </tr>\n",
       "    <tr>\n",
       "      <th>3</th>\n",
       "      <td>00014_024_1</td>\n",
       "      <td>0</td>\n",
       "      <td>0</td>\n",
       "      <td>0</td>\n",
       "      <td>0</td>\n",
       "      <td>0</td>\n",
       "      <td>0</td>\n",
       "      <td>0</td>\n",
       "      <td>0</td>\n",
       "      <td>0</td>\n",
       "      <td>...</td>\n",
       "      <td>14</td>\n",
       "      <td>24</td>\n",
       "      <td>1</td>\n",
       "      <td>Asuncion</td>\n",
       "      <td>1</td>\n",
       "      <td>3</td>\n",
       "      <td>0</td>\n",
       "      <td>0.0</td>\n",
       "      <td>0</td>\n",
       "      <td>Asuncion</td>\n",
       "    </tr>\n",
       "    <tr>\n",
       "      <th>4</th>\n",
       "      <td>00014_025_1</td>\n",
       "      <td>0</td>\n",
       "      <td>0</td>\n",
       "      <td>0</td>\n",
       "      <td>0</td>\n",
       "      <td>0</td>\n",
       "      <td>0</td>\n",
       "      <td>0</td>\n",
       "      <td>0</td>\n",
       "      <td>0</td>\n",
       "      <td>...</td>\n",
       "      <td>14</td>\n",
       "      <td>25</td>\n",
       "      <td>1</td>\n",
       "      <td>Asuncion</td>\n",
       "      <td>1</td>\n",
       "      <td>3</td>\n",
       "      <td>0</td>\n",
       "      <td>0.0</td>\n",
       "      <td>0</td>\n",
       "      <td>Asuncion</td>\n",
       "    </tr>\n",
       "  </tbody>\n",
       "</table>\n",
       "<p>5 rows × 28 columns</p>\n",
       "</div>"
      ],
      "text/plain": [
       "          hhid  hh_d_ni_noasis  hh_d_esc_retardada  hh_d_logro_min  \\\n",
       "0  00014_003_1               0                   1               0   \n",
       "1  00014_020_1               0                   0               0   \n",
       "2  00014_023_1               0                   0               0   \n",
       "3  00014_024_1               0                   0               0   \n",
       "4  00014_025_1               0                   0               0   \n",
       "\n",
       "   hh_d_destotalmax  hh_d_subocup_max  hh_d_10a17_ocup  hh_d_no_afil  \\\n",
       "0                 1                 0                0             0   \n",
       "1                 0                 0                0             1   \n",
       "2                 0                 0                0             1   \n",
       "3                 0                 0                0             0   \n",
       "4                 0                 0                0             0   \n",
       "\n",
       "   hh_d_jubi_pens  hh_d_materialidad  ...  upm  nvivi  nhoga      dpto  area  \\\n",
       "0               0                  0  ...   14      3      1  Asuncion     1   \n",
       "1               0                  0  ...   14     20      1  Asuncion     1   \n",
       "2               0                  0  ...   14     23      1  Asuncion     1   \n",
       "3               0                  0  ...   14     24      1  Asuncion     1   \n",
       "4               0                  0  ...   14     25      1  Asuncion     1   \n",
       "\n",
       "   pobrezai  pobnopoi  ing_tcm  tcm    estgeo  \n",
       "0         3         0      0.0    0  Asuncion  \n",
       "1         3         0      0.0    0  Asuncion  \n",
       "2         3         0      0.0    0  Asuncion  \n",
       "3         3         0      0.0    0  Asuncion  \n",
       "4         3         0      0.0    0  Asuncion  \n",
       "\n",
       "[5 rows x 28 columns]"
      ]
     },
     "execution_count": 5,
     "metadata": {},
     "output_type": "execute_result"
    }
   ],
   "source": [
    "mpi2023.head()"
   ]
  },
  {
   "cell_type": "code",
   "execution_count": 6,
   "id": "c9e4d4e8-5a1c-430f-8d23-8ad9851eae46",
   "metadata": {},
   "outputs": [
    {
     "name": "stdout",
     "output_type": "stream",
     "text": [
      "<class 'pandas.core.frame.DataFrame'>\n",
      "RangeIndex: 17032 entries, 0 to 17031\n",
      "Data columns (total 28 columns):\n",
      " #   Column              Non-Null Count  Dtype  \n",
      "---  ------              --------------  -----  \n",
      " 0   hhid                17032 non-null  object \n",
      " 1   hh_d_ni_noasis      17032 non-null  int64  \n",
      " 2   hh_d_esc_retardada  17032 non-null  int64  \n",
      " 3   hh_d_logro_min      17032 non-null  int64  \n",
      " 4   hh_d_destotalmax    17032 non-null  int64  \n",
      " 5   hh_d_subocup_max    17032 non-null  int64  \n",
      " 6   hh_d_10a17_ocup     17032 non-null  int64  \n",
      " 7   hh_d_no_afil        17032 non-null  int64  \n",
      " 8   hh_d_jubi_pens      17032 non-null  int64  \n",
      " 9   hh_d_materialidad   17032 non-null  int64  \n",
      " 10  hh_d_hacinamiento   17032 non-null  int64  \n",
      " 11  hh_d_sin_basur      17032 non-null  int64  \n",
      " 12  hh_d_sin_salud      17032 non-null  int64  \n",
      " 13  hh_d_agua_mejor     17032 non-null  int64  \n",
      " 14  hh_d_san_mejor      17032 non-null  int64  \n",
      " 15  hh_d_combus         17032 non-null  int64  \n",
      " 16  fex_2022            17032 non-null  float64\n",
      " 17  facpob              17032 non-null  float64\n",
      " 18  upm                 17032 non-null  int64  \n",
      " 19  nvivi               17032 non-null  int64  \n",
      " 20  nhoga               17032 non-null  int64  \n",
      " 21  dpto                17032 non-null  object \n",
      " 22  area                17032 non-null  int64  \n",
      " 23  pobrezai            17032 non-null  int64  \n",
      " 24  pobnopoi            17032 non-null  int64  \n",
      " 25  ing_tcm             17032 non-null  float64\n",
      " 26  tcm                 17032 non-null  int64  \n",
      " 27  estgeo              17032 non-null  object \n",
      "dtypes: float64(3), int64(22), object(3)\n",
      "memory usage: 3.6+ MB\n"
     ]
    }
   ],
   "source": [
    "mpi2023.info()"
   ]
  },
  {
   "cell_type": "code",
   "execution_count": 7,
   "id": "5dafc5c1-c22f-4be7-b989-47d0fef7b3b8",
   "metadata": {},
   "outputs": [],
   "source": [
    "dimensions_indicators = {\n",
    "    \"ed\" : [\"hh_d_ni_noasis\",\"hh_d_esc_retardada\",\"hh_d_logro_min\"],\n",
    "    \"em\" : [\"hh_d_destotalmax\",\"hh_d_subocup_max\",\"hh_d_10a17_ocup\",\"hh_d_no_afil\",\"hh_d_jubi_pens\"],\n",
    "    \"vi\" : [\"hh_d_materialidad\",\"hh_d_hacinamiento\",\"hh_d_sin_basur\"],\n",
    "    \"sa\" : [\"hh_d_sin_salud\",\"hh_d_agua_mejor\",\"hh_d_san_mejor\",\"hh_d_combus\"]\n",
    "}"
   ]
  },
  {
   "cell_type": "code",
   "execution_count": 8,
   "id": "d4aea82f-c3ea-484d-8142-c9b3f367e958",
   "metadata": {},
   "outputs": [],
   "source": [
    "def calculate_weights(mpi_indicators):\n",
    "  \"\"\"\n",
    "  Parameters:\n",
    "    mpi_indicators: dictionary\n",
    "\n",
    "  Computation of each dimension and indicators weigths following capability approach criterion\n",
    "\n",
    "  Returns two dictionaries: one with dimensions weigths and another with indicators weights\n",
    "  \"\"\"\n",
    "  dim_weights, indic_weights = {}, {}\n",
    "  for key in mpi_indicators.keys():\n",
    "    weight = 1/len(mpi_indicators.keys())\n",
    "    dim_weights[key] = weight\n",
    "    for value in mpi_indicators[key]:\n",
    "      indic_weights[value] = weight / len(mpi_indicators[key])\n",
    "  return dim_weights, indic_weights"
   ]
  },
  {
   "cell_type": "code",
   "execution_count": 9,
   "id": "a3620470-6dae-42e7-96ee-775d175b131a",
   "metadata": {},
   "outputs": [],
   "source": [
    "def deprivation_score(mpi_indicators,data):\n",
    "    dimensions_weights, indicators_weights = calculate_weights(mpi_indicators)\n",
    "    indicators_ = list(indicators_weights.keys())\n",
    "    mpi_data = data[indicators_]\n",
    "    #mpi_data = mpi_data.to_numpy()\n",
    "    for indicator in mpi_data.columns:\n",
    "        mpi_data[indicator] *= indicators_weights[indicator]\n",
    "    score = mpi_data.sum(axis=1)\n",
    "    return score"
   ]
  },
  {
   "cell_type": "code",
   "execution_count": 10,
   "id": "1ee10219-a7e1-4b5f-a815-e6a84649dd55",
   "metadata": {},
   "outputs": [],
   "source": [
    "def censored_deprivation_score(deprivation_score, k):\n",
    "  censored_deprivation_score = np.where(deprivation_score >= k, deprivation_score, 0)\n",
    "  return censored_deprivation_score"
   ]
  },
  {
   "cell_type": "code",
   "execution_count": 11,
   "id": "b5514814-8580-4594-bc39-61c5dae87f35",
   "metadata": {},
   "outputs": [
    {
     "name": "stderr",
     "output_type": "stream",
     "text": [
      "C:\\Users\\girel\\AppData\\Local\\Temp\\ipykernel_33412\\1372878469.py:7: SettingWithCopyWarning: \n",
      "A value is trying to be set on a copy of a slice from a DataFrame.\n",
      "Try using .loc[row_indexer,col_indexer] = value instead\n",
      "\n",
      "See the caveats in the documentation: https://pandas.pydata.org/pandas-docs/stable/user_guide/indexing.html#returning-a-view-versus-a-copy\n",
      "  mpi_data[indicator] *= indicators_weights[indicator]\n"
     ]
    }
   ],
   "source": [
    "c_k = censored_deprivation_score(deprivation_score(dimensions_indicators, mpi2023), 26/100)"
   ]
  },
  {
   "cell_type": "code",
   "execution_count": 12,
   "id": "f4e822d6-3380-4264-853f-7b2e07e753d5",
   "metadata": {},
   "outputs": [],
   "source": [
    "mpi2023['mpi_poor'] =  np.where(c_k > 0, 1, 0)"
   ]
  },
  {
   "cell_type": "code",
   "execution_count": 16,
   "id": "3af677d4-727e-419a-912b-50581bbd70c5",
   "metadata": {},
   "outputs": [
    {
     "data": {
      "image/png": "[encoded data removed]",
      "text/plain": [
       "<Figure size 640x480 with 1 Axes>"
      ]
     },
     "metadata": {},
     "output_type": "display_data"
    }
   ],
   "source": [
    "import seaborn as sns\n",
    "from matplotlib import pyplot as plt\n",
    "\n",
    "# Sample data (replace with your actual data)\n",
    "data = {'TCM': mpi2023.tcm.to_numpy(),\n",
    "        'MPI poor': mpi2023.mpi_poor.to_numpy(),\n",
    "        'Monetary poor':  mpi2023['pobnopoi']}\n",
    "df = pd.DataFrame(data)\n",
    "\n",
    "grouped_counts = df.groupby('TCM').agg(\n",
    "    mpi_poor=('MPI poor', 'sum'),\n",
    "    mon_poor=('Monetary poor', 'sum')\n",
    ")\n",
    "\n",
    "# Create the grouped bar plot using seaborn\n",
    "sns.barplot(x='TCM', y='value', hue='level_1', data=grouped_counts.stack().reset_index(name='value'))\n",
    "\n",
    "# Customize the plot (optional)\n",
    "plt.xlabel('TCM')\n",
    "plt.ylabel('Count')\n",
    "plt.title('Proporción de Personas que son pobres y reciben o no el TCM')\n",
    "plt.legend(title='Variable')\n",
    "plt.show()"
   ]
  },
  {
   "cell_type": "code",
   "execution_count": 17,
   "id": "b45fafc2-c636-476a-9719-1923ee2bb2dd",
   "metadata": {},
   "outputs": [
    {
     "data": {
      "text/html": [
       "<div>\n",
       "<style scoped>\n",
       "    .dataframe tbody tr th:only-of-type {\n",
       "        vertical-align: middle;\n",
       "    }\n",
       "\n",
       "    .dataframe tbody tr th {\n",
       "        vertical-align: top;\n",
       "    }\n",
       "\n",
       "    .dataframe thead th {\n",
       "        text-align: right;\n",
       "    }\n",
       "</style>\n",
       "<table border=\"1\" class=\"dataframe\">\n",
       "  <thead>\n",
       "    <tr style=\"text-align: right;\">\n",
       "      <th>mpi_poor</th>\n",
       "      <th>0</th>\n",
       "      <th>1</th>\n",
       "    </tr>\n",
       "    <tr>\n",
       "      <th>pobnopoi</th>\n",
       "      <th></th>\n",
       "      <th></th>\n",
       "    </tr>\n",
       "  </thead>\n",
       "  <tbody>\n",
       "    <tr>\n",
       "      <th>0</th>\n",
       "      <td>12083</td>\n",
       "      <td>1553</td>\n",
       "    </tr>\n",
       "    <tr>\n",
       "      <th>1</th>\n",
       "      <td>2056</td>\n",
       "      <td>1340</td>\n",
       "    </tr>\n",
       "  </tbody>\n",
       "</table>\n",
       "</div>"
      ],
      "text/plain": [
       "mpi_poor      0     1\n",
       "pobnopoi             \n",
       "0         12083  1553\n",
       "1          2056  1340"
      ]
     },
     "execution_count": 17,
     "metadata": {},
     "output_type": "execute_result"
    }
   ],
   "source": [
    "pd.crosstab(mpi2023['pobnopoi'], mpi2023['mpi_poor'])"
   ]
  },
  {
   "cell_type": "code",
   "execution_count": 19,
   "id": "ce9ae42e-2087-42fb-b237-e5c4434f9237",
   "metadata": {},
   "outputs": [],
   "source": [
    "nested_indicators = list(dimensions_indicators.values())\n",
    "\n",
    "indicators = []\n",
    "for i in nested_indicators:\n",
    "    indicators.extend(i)"
   ]
  },
  {
   "cell_type": "code",
   "execution_count": 20,
   "id": "16d163bb-8673-4196-b252-072c1c24c07e",
   "metadata": {},
   "outputs": [],
   "source": [
    "from sklearn.ensemble import RandomForestClassifier\n",
    "from sklearn.linear_model import LogisticRegression\n",
    "from sklearn import model_selection"
   ]
  },
  {
   "cell_type": "code",
   "execution_count": 84,
   "id": "203a2c93-61aa-4f58-923d-840463f84211",
   "metadata": {},
   "outputs": [],
   "source": [
    "X = mpi2023[indicators]\n",
    "Y = mpi2023['pobnopoi']\n",
    "\n",
    "Xtrain, Xtest, ytrain, ytest = model_selection.train_test_split(X,Y,train_size = 0.8, random_state=912)"
   ]
  },
  {
   "cell_type": "code",
   "execution_count": 85,
   "id": "eb072b15-4150-446e-9a47-4b1eca316ed5",
   "metadata": {},
   "outputs": [],
   "source": [
    "# Discrete model\n",
    "kfolds = 5\n",
    "sdr=sdr_discrete_graphical_model(c=np.linspace(.1,1,10),ncores=4)\n",
    "#cross_validation_in_prediction(sdr,X,Y,kfolds,AUC,bigger_is_better=True).learn_1fold(0)"
   ]
  },
  {
   "cell_type": "code",
   "execution_count": 86,
   "id": "2e8f82e4-1ec3-43a0-86d7-01825cf60c37",
   "metadata": {},
   "outputs": [],
   "source": [
    "ytrain = (ytrain > 0).to_numpy().reshape(-1,1).astype(int)>0\n",
    "Xtrain = (Xtrain).to_numpy().astype(int)>0"
   ]
  },
  {
   "cell_type": "code",
   "execution_count": null,
   "id": "15d09bed-9dc0-45b1-83eb-27be61c3430e",
   "metadata": {},
   "outputs": [],
   "source": []
  },
  {
   "cell_type": "code",
   "execution_count": null,
   "id": "c914043b-3d44-4356-9e7a-de44e6d1e541",
   "metadata": {},
   "outputs": [],
   "source": [
    "cross_validation_in_prediction(sdr,Xtrain,ytrain,kfolds,AUC,bigger_is_better=True).learn()# update sdr object"
   ]
  },
  {
   "cell_type": "code",
   "execution_count": null,
   "id": "9f148fc3-9fc4-4a1a-8d13-3d7066b0214a",
   "metadata": {},
   "outputs": [],
   "source": [
    "print(sdr.c,sdr.ne,np.hstack((ytest, sdr.predict(Xtest))))"
   ]
  },
  {
   "cell_type": "code",
   "execution_count": 24,
   "id": "4401fb67-5850-4449-b856-fc70b59236ab",
   "metadata": {},
   "outputs": [],
   "source": [
    "logr = LogisticRegression()\n",
    "log_reg = logr.fit(Xtrain,ytrain)"
   ]
  },
  {
   "cell_type": "code",
   "execution_count": 25,
   "id": "9a36ef85-0cb4-4378-82cd-d69c233e4e9e",
   "metadata": {},
   "outputs": [
    {
     "data": {
      "text/plain": [
       "array([[0.92157269, 0.07842731],\n",
       "       [0.93472285, 0.06527715],\n",
       "       [0.42527378, 0.57472622],\n",
       "       ...,\n",
       "       [0.76931996, 0.23068004],\n",
       "       [0.93472285, 0.06527715],\n",
       "       [0.71305227, 0.28694773]])"
      ]
     },
     "execution_count": 25,
     "metadata": {},
     "output_type": "execute_result"
    }
   ],
   "source": [
    "log_reg.predict_proba(Xtest)"
   ]
  },
  {
   "cell_type": "code",
   "execution_count": 32,
   "id": "d405bfcf-2b26-4b0e-b5ca-150531ee3826",
   "metadata": {},
   "outputs": [],
   "source": [
    "rf = RandomForestClassifier(n_estimators=500)\n",
    "random_forest = rf.fit(Xtrain, ytrain)"
   ]
  },
  {
   "cell_type": "code",
   "execution_count": 33,
   "id": "49248af3-93e1-42c8-b7a5-41e5f9fec17b",
   "metadata": {},
   "outputs": [
    {
     "data": {
      "text/plain": [
       "array([[0.93437362, 0.06562638],\n",
       "       [0.94812349, 0.05187651],\n",
       "       [0.7888369 , 0.2111631 ],\n",
       "       ...,\n",
       "       [0.85357607, 0.14642393],\n",
       "       [0.94812349, 0.05187651],\n",
       "       [0.65953224, 0.34046776]])"
      ]
     },
     "execution_count": 33,
     "metadata": {},
     "output_type": "execute_result"
    }
   ],
   "source": [
    "random_forest.predict_proba(Xtest)"
   ]
  },
  {
   "cell_type": "code",
   "execution_count": 34,
   "id": "3adec9ad-b906-4e5f-89ff-5e423a0690d3",
   "metadata": {},
   "outputs": [
    {
     "data": {
      "text/plain": [
       "7730     0\n",
       "11773    1\n",
       "14777    1\n",
       "3278     1\n",
       "2986     0\n",
       "        ..\n",
       "7394     0\n",
       "11988    0\n",
       "1870     0\n",
       "13639    0\n",
       "16042    1\n",
       "Name: pobnopoi, Length: 3407, dtype: int64"
      ]
     },
     "execution_count": 34,
     "metadata": {},
     "output_type": "execute_result"
    }
   ],
   "source": [
    "ytest"
   ]
  },
  {
   "cell_type": "code",
   "execution_count": 35,
   "id": "c1049d12-e684-4a90-821a-d30c9bc75cf6",
   "metadata": {},
   "outputs": [],
   "source": [
    "from sklearn.metrics import confusion_matrix, classification_report, ConfusionMatrixDisplay"
   ]
  },
  {
   "cell_type": "code",
   "execution_count": 36,
   "id": "13d209ca-dc01-42a3-bc41-88762033f0bb",
   "metadata": {},
   "outputs": [
    {
     "data": {
      "text/plain": [
       "<sklearn.metrics._plot.confusion_matrix.ConfusionMatrixDisplay at 0x13e4d3fa590>"
      ]
     },
     "execution_count": 36,
     "metadata": {},
     "output_type": "execute_result"
    },
    {
     "data": {
      "image/png": "[encoded data removed]",
      "text/plain": [
       "<Figure size 640x480 with 2 Axes>"
      ]
     },
     "metadata": {},
     "output_type": "display_data"
    }
   ],
   "source": [
    "cm = ConfusionMatrixDisplay(confusion_matrix(ytest, random_forest.predict(Xtest)))\n",
    "cm.plot()"
   ]
  },
  {
   "cell_type": "code",
   "execution_count": 37,
   "id": "81fc3064-74c1-48b2-be45-527a9ecb1e13",
   "metadata": {},
   "outputs": [
    {
     "name": "stdout",
     "output_type": "stream",
     "text": [
      "              precision    recall  f1-score   support\n",
      "\n",
      "           0       0.83      0.97      0.89      2718\n",
      "           1       0.65      0.21      0.31       689\n",
      "\n",
      "    accuracy                           0.82      3407\n",
      "   macro avg       0.74      0.59      0.60      3407\n",
      "weighted avg       0.79      0.82      0.78      3407\n",
      "\n",
      "              precision    recall  f1-score   support\n",
      "\n",
      "           0       0.83      0.96      0.89      2718\n",
      "           1       0.56      0.21      0.31       689\n",
      "\n",
      "    accuracy                           0.81      3407\n",
      "   macro avg       0.69      0.58      0.60      3407\n",
      "weighted avg       0.77      0.81      0.77      3407\n",
      "\n"
     ]
    }
   ],
   "source": [
    "print(classification_report(ytest, log_reg.predict(Xtest))),\n",
    "print(classification_report(ytest, random_forest.predict(Xtest)))"
   ]
  },
  {
   "cell_type": "code",
   "execution_count": 39,
   "id": "1763e7e7-af42-4559-b3f5-6346e6095756",
   "metadata": {},
   "outputs": [],
   "source": [
    "def leakage(ytrue, ypred):\n",
    "    tn, fp, fn, tp = confusion_matrix(ytrue, ypred).ravel()\n",
    "    metric = fp/(fn+tp) \n",
    "    if metric > 1: metric = 1 \n",
    "    return metric\n",
    "\n",
    "def undercoverage(ytrue,ypred):\n",
    "    tn, fp, fn, tp = confusion_matrix(ytrue, ypred).ravel()\n",
    "    metric = fn/(fn+tp) \n",
    "    if metric > 1: metric = 1\n",
    "    return metric"
   ]
  },
  {
   "cell_type": "code",
   "execution_count": 40,
   "id": "3e53cd26-57cd-4f64-bd93-209d12517031",
   "metadata": {},
   "outputs": [],
   "source": [
    "def evaluate_thresholds(probabilities, true_labels, thresholds=None):\n",
    "    if thresholds is None:\n",
    "        thresholds = np.arange(0, 1.01, 0.01)\n",
    "\n",
    "    results = {\n",
    "        'thresholds': [],\n",
    "        'leakage': [],\n",
    "        'undercoverage': []\n",
    "    }\n",
    "\n",
    "    for threshold in thresholds:\n",
    "        predictions = (probabilities[:, 1] >= threshold).astype(int)\n",
    "        leakage_error = leakage(true_labels, predictions)\n",
    "        undercoverage_error = undercoverage(true_labels, predictions)\n",
    "\n",
    "        results['thresholds'].append(threshold)\n",
    "        results['leakage'].append(leakage_error)\n",
    "        results['undercoverage'].append(undercoverage_error)\n",
    "    \n",
    "    return results\n",
    "        "
   ]
  },
  {
   "cell_type": "code",
   "execution_count": 47,
   "id": "a0030c0b-f4a4-4026-b4d1-04333bc19ec2",
   "metadata": {},
   "outputs": [],
   "source": [
    "# Assuming you have probabilities and true_labels\n",
    "results_rf = evaluate_thresholds(random_forest.predict_proba(Xtest), ytest)\n",
    "results_lr = evaluate_thresholds(log_reg.predict_proba(Xtest),ytest)"
   ]
  },
  {
   "cell_type": "code",
   "execution_count": 49,
   "id": "f73e20bd-4958-4156-8ac0-75045ea09852",
   "metadata": {},
   "outputs": [
    {
     "data": {
      "image/png": "[encoded data removed]",
      "text/plain": [
       "<Figure size 1000x500 with 1 Axes>"
      ]
     },
     "metadata": {},
     "output_type": "display_data"
    }
   ],
   "source": [
    "# Plot the results (optional)\n",
    "import matplotlib.pyplot as plt\n",
    "\n",
    "plt.figure(figsize=(10, 5))\n",
    "\n",
    "plt.subplot(1, 2, 1)\n",
    "plt.plot(results_rf['thresholds'], results_rf['leakage'], label='Leakage RF')\n",
    "plt.plot(results_rf['thresholds'], results_rf['undercoverage'], label='Undercoverage RF')\n",
    "plt.plot(results_lr['thresholds'], results_lr['leakage'], label='Leakage LR')\n",
    "plt.plot(results_lr['thresholds'], results_lr['undercoverage'], label='Undercoverage LR')\n",
    "plt.xlabel('Threshold')\n",
    "plt.legend()\n",
    "plt.tight_layout()\n",
    "plt.show()"
   ]
  },
  {
   "cell_type": "code",
   "execution_count": 77,
   "id": "0b60b212-2eae-453c-8b63-08404c4182af",
   "metadata": {},
   "outputs": [
    {
     "data": {
      "text/plain": [
       "array([0.06562638, 0.05187651, 0.2111631 , ..., 0.14642393, 0.05187651,\n",
       "       0.34046776])"
      ]
     },
     "execution_count": 77,
     "metadata": {},
     "output_type": "execute_result"
    }
   ],
   "source": [
    "random_forest.predict_proba(Xtest)[:,1]"
   ]
  },
  {
   "cell_type": "code",
   "execution_count": 78,
   "id": "2e4eb6c7-9900-4d96-870a-0216c06e6328",
   "metadata": {},
   "outputs": [
    {
     "data": {
      "text/plain": [
       "array([[0.93437362, 0.06562638],\n",
       "       [0.94812349, 0.05187651],\n",
       "       [0.7888369 , 0.2111631 ],\n",
       "       ...,\n",
       "       [0.85357607, 0.14642393],\n",
       "       [0.94812349, 0.05187651],\n",
       "       [0.65953224, 0.34046776]])"
      ]
     },
     "execution_count": 78,
     "metadata": {},
     "output_type": "execute_result"
    }
   ],
   "source": [
    "random_forest.predict_proba(Xtest)"
   ]
  },
  {
   "cell_type": "code",
   "execution_count": 134,
   "id": "3325df54-89d3-487d-979d-8498f18df67a",
   "metadata": {},
   "outputs": [
    {
     "data": {
      "text/html": [
       "<div>\n",
       "<style scoped>\n",
       "    .dataframe tbody tr th:only-of-type {\n",
       "        vertical-align: middle;\n",
       "    }\n",
       "\n",
       "    .dataframe tbody tr th {\n",
       "        vertical-align: top;\n",
       "    }\n",
       "\n",
       "    .dataframe thead th {\n",
       "        text-align: right;\n",
       "    }\n",
       "</style>\n",
       "<table border=\"1\" class=\"dataframe\">\n",
       "  <thead>\n",
       "    <tr style=\"text-align: right;\">\n",
       "      <th></th>\n",
       "      <th>TCM</th>\n",
       "      <th>level_1</th>\n",
       "      <th>value</th>\n",
       "    </tr>\n",
       "  </thead>\n",
       "  <tbody>\n",
       "    <tr>\n",
       "      <th>0</th>\n",
       "      <td>0</td>\n",
       "      <td>mpi_poor</td>\n",
       "      <td>2391</td>\n",
       "    </tr>\n",
       "    <tr>\n",
       "      <th>1</th>\n",
       "      <td>0</td>\n",
       "      <td>mon_poor</td>\n",
       "      <td>2824</td>\n",
       "    </tr>\n",
       "    <tr>\n",
       "      <th>2</th>\n",
       "      <td>1</td>\n",
       "      <td>mpi_poor</td>\n",
       "      <td>502</td>\n",
       "    </tr>\n",
       "    <tr>\n",
       "      <th>3</th>\n",
       "      <td>1</td>\n",
       "      <td>mon_poor</td>\n",
       "      <td>572</td>\n",
       "    </tr>\n",
       "  </tbody>\n",
       "</table>\n",
       "</div>"
      ],
      "text/plain": [
       "   TCM   level_1  value\n",
       "0    0  mpi_poor   2391\n",
       "1    0  mon_poor   2824\n",
       "2    1  mpi_poor    502\n",
       "3    1  mon_poor    572"
      ]
     },
     "execution_count": 134,
     "metadata": {},
     "output_type": "execute_result"
    }
   ],
   "source": [
    "grouped_counts.stack().reset_index(name='value')"
   ]
  },
  {
   "cell_type": "code",
   "execution_count": 132,
   "id": "9749eb4a-0445-4494-87ed-0a7b5d144c57",
   "metadata": {},
   "outputs": [
    {
     "data": {
      "text/html": [
       "<div>\n",
       "<style scoped>\n",
       "    .dataframe tbody tr th:only-of-type {\n",
       "        vertical-align: middle;\n",
       "    }\n",
       "\n",
       "    .dataframe tbody tr th {\n",
       "        vertical-align: top;\n",
       "    }\n",
       "\n",
       "    .dataframe thead th {\n",
       "        text-align: right;\n",
       "    }\n",
       "</style>\n",
       "<table border=\"1\" class=\"dataframe\">\n",
       "  <thead>\n",
       "    <tr style=\"text-align: right;\">\n",
       "      <th></th>\n",
       "      <th>mpi_poor</th>\n",
       "      <th>mon_poor</th>\n",
       "    </tr>\n",
       "    <tr>\n",
       "      <th>TCM</th>\n",
       "      <th></th>\n",
       "      <th></th>\n",
       "    </tr>\n",
       "  </thead>\n",
       "  <tbody>\n",
       "    <tr>\n",
       "      <th>0</th>\n",
       "      <td>2391</td>\n",
       "      <td>2824</td>\n",
       "    </tr>\n",
       "    <tr>\n",
       "      <th>1</th>\n",
       "      <td>502</td>\n",
       "      <td>572</td>\n",
       "    </tr>\n",
       "  </tbody>\n",
       "</table>\n",
       "</div>"
      ],
      "text/plain": [
       "     mpi_poor  mon_poor\n",
       "TCM                    \n",
       "0        2391      2824\n",
       "1         502       572"
      ]
     },
     "execution_count": 132,
     "metadata": {},
     "output_type": "execute_result"
    }
   ],
   "source": [
    "grouped_counts"
   ]
  }
 ],
 "metadata": {
  "kernelspec": {
   "display_name": "Python 3 (ipykernel)",
   "language": "python",
   "name": "python3"
  },
  "language_info": {
   "codemirror_mode": {
    "name": "ipython",
    "version": 3
   },
   "file_extension": ".py",
   "mimetype": "text/x-python",
   "name": "python",
   "nbconvert_exporter": "python",
   "pygments_lexer": "ipython3",
   "version": "3.11.4"
  }
 },
 "nbformat": 4,
 "nbformat_minor": 5
}
