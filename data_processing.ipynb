{
 "cells": [
  {
   "cell_type": "code",
   "execution_count": 1,
   "id": "be0fbca2",
   "metadata": {},
   "outputs": [],
   "source": [
    "import os\n",
    "import pandas as pd\n",
    "import numpy as np"
   ]
  },
  {
   "cell_type": "code",
   "execution_count": 2,
   "id": "9c2dbcda",
   "metadata": {},
   "outputs": [
    {
     "data": {
      "text/plain": [
       "'/home/igirela/DiscreteMarkovNetworkMPI'"
      ]
     },
     "execution_count": 2,
     "metadata": {},
     "output_type": "execute_result"
    }
   ],
   "source": [
    "os.getcwd()"
   ]
  },
  {
   "cell_type": "code",
   "execution_count": 3,
   "id": "48dc2484",
   "metadata": {},
   "outputs": [],
   "source": [
    "os.chdir(\"./raw_data\")"
   ]
  },
  {
   "cell_type": "code",
   "execution_count": 8,
   "id": "add61ff5",
   "metadata": {},
   "outputs": [
    {
     "name": "stdout",
     "output_type": "stream",
     "text": [
      "Processing civ_dhs21.dta data\n",
      "Processing mng_mics18.dta data\n",
      "Processing sle_dhs19.dta data\n",
      "Processing cmr_dhs18.dta data\n",
      "Processing kgz_mics18.dta data\n"
     ]
    }
   ],
   "source": [
    "for filename in os.listdir()[-5:]:\n",
    "    print(\"Processing\",filename,\"data\")\n",
    "    # Read .dta file\n",
    "    df = pd.read_stata(filename)\n",
    "    # Set hh_id and ind_id as index\n",
    "    df = df.set_index(['hh_id', 'ind_id'])\n",
    "    # Keep only one observation in the household\n",
    "    df = df.groupby(level='hh_id').first()\n",
    "    # Select global MPI indicators columns\n",
    "    df = df.loc[:,['d_cm','d_nutr', \n",
    "                   'd_satt','d_educ',\n",
    "                   'd_elct', 'd_wtr', 'd_sani', 'd_hsg', 'd_ckfl', 'd_asst']]\n",
    "    # Save as csv file\n",
    "    df.to_csv(\"../processed_data/\"+filename[:-4])"
   ]
  },
  {
   "cell_type": "code",
   "execution_count": null,
   "id": "43a72ed3",
   "metadata": {},
   "outputs": [],
   "source": [
    "# There are problems with some labels in uga_mics and rwa_dhs19-20"
   ]
  },
  {
   "cell_type": "code",
   "execution_count": 7,
   "id": "70f65b4b",
   "metadata": {},
   "outputs": [
    {
     "data": {
      "text/plain": [
       "['civ_dhs21.dta',\n",
       " 'mng_mics18.dta',\n",
       " 'sle_dhs19.dta',\n",
       " 'cmr_dhs18.dta',\n",
       " 'kgz_mics18.dta']"
      ]
     },
     "execution_count": 7,
     "metadata": {},
     "output_type": "execute_result"
    }
   ],
   "source": [
    "os.listdir()[-5:]"
   ]
  },
  {
   "cell_type": "code",
   "execution_count": null,
   "id": "326756f9",
   "metadata": {},
   "outputs": [],
   "source": []
  }
 ],
 "metadata": {
  "kernelspec": {
   "display_name": "Python 3 (ipykernel)",
   "language": "python",
   "name": "python3"
  },
  "language_info": {
   "codemirror_mode": {
    "name": "ipython",
    "version": 3
   },
   "file_extension": ".py",
   "mimetype": "text/x-python",
   "name": "python",
   "nbconvert_exporter": "python",
   "pygments_lexer": "ipython3",
   "version": "3.9.13"
  }
 },
 "nbformat": 4,
 "nbformat_minor": 5
}
