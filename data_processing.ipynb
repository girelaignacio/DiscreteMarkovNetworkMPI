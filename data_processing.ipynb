{
 "cells": [
  {
   "cell_type": "code",
   "execution_count": 1,
   "id": "be0fbca2",
   "metadata": {},
   "outputs": [],
   "source": [
    "import os\n",
    "import pandas as pd\n",
    "import numpy as np\n",
    "from pandas.api.types import CategoricalDtype"
   ]
  },
  {
   "cell_type": "code",
   "execution_count": 2,
   "id": "9c2dbcda",
   "metadata": {},
   "outputs": [
    {
     "data": {
      "text/plain": [
       "'C:\\\\Users\\\\girel\\\\OneDrive\\\\Documentos\\\\DiscreteMarkovNetworkMPI'"
      ]
     },
     "execution_count": 2,
     "metadata": {},
     "output_type": "execute_result"
    }
   ],
   "source": [
    "os.getcwd()"
   ]
  },
  {
   "cell_type": "code",
   "execution_count": 3,
   "id": "48dc2484",
   "metadata": {},
   "outputs": [],
   "source": [
    "os.chdir(\"./raw_data\")"
   ]
  },
  {
   "cell_type": "code",
   "execution_count": 4,
   "id": "add61ff5",
   "metadata": {},
   "outputs": [
    {
     "name": "stdout",
     "output_type": "stream",
     "text": [
      "Processing arg_mics19-20.dta data\n",
      "Processing ben_mics21-22.dta data\n",
      "Processing bfa_dhs21.dta data\n",
      "Processing bgd_mics19.dta data\n",
      "Processing blz_mics15-16.dta data\n",
      "Processing civ_dhs21.dta data\n",
      "Processing cmr_dhs18.dta data\n",
      "Processing com_mics22.dta data\n",
      "Processing cub_mics19.dta data\n",
      "Processing dza_mics18-19.dta data\n",
      "Processing eth_dhs19.dta data\n",
      "Processing fji_mics21.dta data\n",
      "Processing gab_dhs19-21.dta data\n",
      "Processing geo_mics18.dta data\n",
      "Processing gin_dhs18.dta data\n",
      "Processing gmb_dhs19-20.dta data\n",
      "Processing gnb_mics18-19.dta data\n",
      "Processing guy_mics19-20.dta data\n",
      "Processing hnd_mics19.dta data\n",
      "Processing irq_mics18.dta data\n",
      "Processing kaz_mics15.dta data\n",
      "Processing kgz_mics18.dta data\n",
      "Processing kir_mics18-19.dta data\n",
      "Processing lbr_dhs19-20.dta data\n",
      "Processing mda_mics12.dta data\n",
      "Processing mdg_dhs21.dta data\n",
      "Processing mng_mics18.dta data\n",
      "Processing moz_dhs22-23.dta data\n",
      "Processing mrt_dhs19-21.dta data\n",
      "Processing mwi_mics19-20.dta data\n",
      "Processing nam_dhs13.dta data\n",
      "Processing ner_dhs12.dta data\n",
      "Processing pry_mics16.dta data\n",
      "Processing rwa_dhs19-20.dta data\n",
      "Processing sdn_mics14.dta data\n",
      "Processing sle_dhs19.dta data\n",
      "Processing srb_mics19.dta data\n",
      "Processing sur_mics18.dta data\n",
      "Processing tcd_mics19.dta data\n",
      "Processing tgo_mics17.dta data\n",
      "Processing tha_mics22.dta data\n",
      "Processing ton_mics19.dta data\n",
      "Processing tun_mics23.dta data\n",
      "Processing tza_dhs22.dta data\n",
      "Processing uga_dhs16.dta data\n",
      "Processing zaf_dhs16.dta data\n",
      "Processing zmb_dhs18.dta data\n",
      "Processing zwe_mics19.dta data\n"
     ]
    }
   ],
   "source": [
    "for filename in os.listdir():\n",
    "    print(\"Processing\",filename,\"data\")\n",
    "    # Read .dta file\n",
    "    try:\n",
    "        df = pd.read_stata(filename)\n",
    "        # Set hh_id and ind_id as index\n",
    "        df = df.set_index(['hh_id', 'ind_id'])\n",
    "        # Keep only one observation in the household\n",
    "        df = df.groupby(level='hh_id').first()\n",
    "        # Select global MPI indicators columns\n",
    "        df = df.loc[:,['d_cm','d_nutr', \n",
    "                       'd_satt','d_educ',\n",
    "                       'd_elct', 'd_wtr', 'd_sani', 'd_hsg', 'd_ckfl', 'd_asst']]\n",
    "        # Convert columns to int\n",
    "        for col in df.columns:\n",
    "            na_before = df[col].isna().sum()\n",
    "            if df[col].dtype == \"category\":\n",
    "                mapping = {'yes': 1, 'no': 0}\n",
    "                df[col] = df[col].map(mapping)\n",
    "            df[col] = df[col].astype(str).str.strip() # Convert to string first, remove whitespace\n",
    "            df[col] = pd.to_numeric(df[col], errors='coerce')\n",
    "            df[col] = df[col].astype('Int64')\n",
    "            na_after = df[col].isna().sum()\n",
    "            if na_before != na_after: print(\"NAs do not coincide\")\n",
    "        # Convert any number different from 0 or 1 to NaN\n",
    "        df = df.where(df.isin([0, 1]))\n",
    "        # Save as csv file\n",
    "        df.to_csv(\"../processed_data/\"+filename[:-4])\n",
    "    except ValueError: continue"
   ]
  },
  {
   "cell_type": "code",
   "execution_count": null,
   "id": "43a72ed3",
   "metadata": {},
   "outputs": [],
   "source": [
    "# There are problems with some labels in uga_mics and rwa_dhs19-20"
   ]
  },
  {
   "cell_type": "code",
   "execution_count": null,
   "id": "0314d328-b16a-490d-b42e-29594f218596",
   "metadata": {},
   "outputs": [],
   "source": [
    "df = pd.read_stata('nam_dhs13.dta')"
   ]
  },
  {
   "cell_type": "code",
   "execution_count": null,
   "id": "5fd09b73-36e8-4201-9de8-b4f35dcfc87c",
   "metadata": {},
   "outputs": [],
   "source": [
    "df = df.loc[:,['d_cm','d_nutr', \n",
    "                   'd_satt','d_educ',\n",
    "                   'd_elct', 'd_wtr', 'd_sani', 'd_hsg', 'd_ckfl', 'd_asst']]"
   ]
  },
  {
   "cell_type": "code",
   "execution_count": null,
   "id": "a0a38561-9fe3-45a2-87c1-0bb7accaea67",
   "metadata": {},
   "outputs": [],
   "source": [
    "df.info()"
   ]
  },
  {
   "cell_type": "code",
   "execution_count": null,
   "id": "424c4ef9-b7cd-43ea-b4db-bb1a747e9162",
   "metadata": {},
   "outputs": [],
   "source": [
    "df['d_cm'].astype('category').cat.codes"
   ]
  },
  {
   "cell_type": "code",
   "execution_count": null,
   "id": "7b5f43a0-1ef5-4012-95f0-6b78f5917e52",
   "metadata": {},
   "outputs": [],
   "source": [
    "df['d_cm']"
   ]
  },
  {
   "cell_type": "code",
   "execution_count": null,
   "id": "22e831ee-e961-4de2-abeb-b5174258a04e",
   "metadata": {},
   "outputs": [],
   "source": [
    "sum(df['d_cm'] == \"yes\")"
   ]
  },
  {
   "cell_type": "code",
   "execution_count": null,
   "id": "4734b5f0-6e3a-46ec-8158-bb228504e38d",
   "metadata": {},
   "outputs": [],
   "source": [
    "sum(df['d_cm'].astype('category').cat.codes == 1)"
   ]
  },
  {
   "cell_type": "code",
   "execution_count": null,
   "id": "853257e4-d843-4968-81bc-b8ed59d36552",
   "metadata": {},
   "outputs": [],
   "source": [
    "from pandas.api.types import CategoricalDtype\n",
    "df['d_cm'].dtype == CategoricalDtype(categories=['no', 'yes'], ordered=True)\n",
    "df['d_cm'].astype('category').cat.codes"
   ]
  },
  {
   "cell_type": "code",
   "execution_count": null,
   "id": "ab25fb25-0528-4999-9bf0-bb6aa879cbd5",
   "metadata": {},
   "outputs": [],
   "source": [
    "df"
   ]
  },
  {
   "cell_type": "code",
   "execution_count": null,
   "id": "ffb03569-0aa9-4955-9552-5fa04ca3fb4e",
   "metadata": {},
   "outputs": [],
   "source": [
    "for col in df.columns:\n",
    "    print(df[col].dtype)\n",
    "    print(\"NAs\", df[col].isna().sum())\n",
    "    #if df[col].dtype == \"float\":\n",
    "    #    df[col] = df[col].astype(int32)\n",
    "    #elif df[col].dtype == CategoricalDtype(categories=['no', 'yes'], ordered=True):\n",
    "    #    df[col] = df[col].astype('category').cat.codes\n",
    "    df[col] = df[col].astype(str).str.strip() # Convert to string first, remove whitespace\n",
    "    df[col] = pd.to_numeric(df[col], errors = \"coerce\") \n",
    "    df[col] = df[col].astype('Int64')\n",
    "    print(df[col].dtype)\n",
    "    print(\"NAs\", df[col].isna().sum())\n",
    "    \n",
    "    df[col]"
   ]
  },
  {
   "cell_type": "code",
   "execution_count": null,
   "id": "cadff751-a733-461e-9f14-2547a363cbbf",
   "metadata": {},
   "outputs": [],
   "source": [
    "df.info()"
   ]
  },
  {
   "cell_type": "code",
   "execution_count": null,
   "id": "dfbca89f-9fc8-4156-a8ab-7b11d53ece3b",
   "metadata": {},
   "outputs": [],
   "source": [
    "sum(df['d_elct'] == 9)"
   ]
  },
  {
   "cell_type": "code",
   "execution_count": null,
   "id": "f14e5208-acce-4641-a117-3b0c80164861",
   "metadata": {},
   "outputs": [],
   "source": [
    "def check_and_convert(series):\n",
    "    \"\"\"Checks if all values in a Pandas Series are 0 or 1.\n",
    "       If not, converts all values in the Series to NaN.\n",
    "    \"\"\"\n",
    "    if series.isin([0, 1]).all():  # Check if ALL values are 0 or 1\n",
    "        return series  # Return the original series if condition is met\n",
    "    else:\n",
    "        return pd.Series(np.nan, index=series.index)  # Return a Series of NaNs\n",
    "\n",
    "# Example DataFrame\n",
    "df = pd.DataFrame({'A': [0, 1, 0, 1],\n",
    "                   'B': [0, 1, 2, 1],  # Contains a value other than 0 or 1\n",
    "                   'C': [0, 0, 0, 0],\n",
    "                   'D': [1, 1, 1, 1]})\n",
    "\n",
    "# Apply the function to each column\n",
    "#df = df.apply(check_and_convert)\n",
    "\n",
    "print(df)"
   ]
  },
  {
   "cell_type": "code",
   "execution_count": null,
   "id": "9d71c2d6-b8b5-4162-9ec0-4f20405e7d90",
   "metadata": {},
   "outputs": [],
   "source": [
    "df.where(df.isin([0, 1]))"
   ]
  },
  {
   "cell_type": "code",
   "execution_count": null,
   "id": "a9bbbb21-3932-46f4-805a-4299be44e305",
   "metadata": {},
   "outputs": [],
   "source": []
  }
 ],
 "metadata": {
  "kernelspec": {
   "display_name": "Python 3 (ipykernel)",
   "language": "python",
   "name": "python3"
  },
  "language_info": {
   "codemirror_mode": {
    "name": "ipython",
    "version": 3
   },
   "file_extension": ".py",
   "mimetype": "text/x-python",
   "name": "python",
   "nbconvert_exporter": "python",
   "pygments_lexer": "ipython3",
   "version": "3.11.4"
  }
 },
 "nbformat": 4,
 "nbformat_minor": 5
}
