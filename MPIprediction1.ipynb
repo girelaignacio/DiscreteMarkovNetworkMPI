{
 "cells": [
  {
   "cell_type": "code",
   "execution_count": null,
   "id": "3548633d-9f80-480e-8d03-293cbcb08443",
   "metadata": {},
   "outputs": [],
   "source": [
    "import os\n",
    "import pandas as pd\n",
    "import numpy as np\n",
    "from discrete_gm_nonpos import *"
   ]
  },
  {
   "cell_type": "code",
   "execution_count": null,
   "id": "f49e6ee0-1a5d-435a-81fb-85da60cab6b1",
   "metadata": {},
   "outputs": [],
   "source": [
    "os.path.exists(os.getcwd() + \"/data\")"
   ]
  },
  {
   "cell_type": "code",
   "execution_count": null,
   "id": "33143215-58bc-405f-85d1-86b569b2b159",
   "metadata": {},
   "outputs": [],
   "source": [
    "mpi2023 = pd.read_csv(os.getcwd() + \"/data/MPI2023_microdata.csv\")"
   ]
  },
  {
   "cell_type": "code",
   "execution_count": null,
   "id": "5dafc5c1-c22f-4be7-b989-47d0fef7b3b8",
   "metadata": {},
   "outputs": [],
   "source": [
    "dimensions_indicators = {\n",
    "    \"ed\" : [\"hh_d_ni_noasis\",\"hh_d_esc_retardada\",\"hh_d_logro_min\"],\n",
    "    \"em\" : [\"hh_d_destotalmax\",\"hh_d_subocup_max\",\"hh_d_10a17_ocup\",\"hh_d_no_afil\",\"hh_d_jubi_pens\"],\n",
    "    \"vi\" : [\"hh_d_materialidad\",\"hh_d_hacinamiento\",\"hh_d_sin_basur\"],\n",
    "    \"sa\" : [\"hh_d_sin_salud\",\"hh_d_agua_mejor\",\"hh_d_san_mejor\",\"hh_d_combus\"]\n",
    "}"
   ]
  },
  {
   "cell_type": "code",
   "execution_count": null,
   "id": "d4aea82f-c3ea-484d-8142-c9b3f367e958",
   "metadata": {},
   "outputs": [],
   "source": [
    "def calculate_weights(mpi_indicators):\n",
    "    \"\"\"\n",
    "    Parameters:\n",
    "    mpi_indicators: dictionary\n",
    "    Computation of each dimension and indicators weigths following capability approach criterion\n",
    "\n",
    "    Returns two dictionaries: one with dimensions weigths and another with indicators weights\n",
    "    \"\"\"\n",
    "    dim_weights  = {}\n",
    "    indic_weights = {}\n",
    "    for key in mpi_indicators.keys():\n",
    "        weight = 1/len(mpi_indicators.keys())\n",
    "        dim_weights[key] = weight\n",
    "        for value in mpi_indicators[key]:\n",
    "            indic_weights[value] = weight / len(mpi_indicators[key])\n",
    "            \n",
    "    return dim_weights, indic_weights"
   ]
  },
  {
   "cell_type": "code",
   "execution_count": null,
   "id": "a3620470-6dae-42e7-96ee-775d175b131a",
   "metadata": {},
   "outputs": [],
   "source": [
    "def deprivation_score(mpi_indicators,data):\n",
    "    dimensions_weights, indicators_weights = calculate_weights(mpi_indicators)\n",
    "    indicators_ = list(indicators_weights.keys())\n",
    "    mpi_data = data[indicators_]\n",
    "    #mpi_data = mpi_data.to_numpy()\n",
    "    for indicator in mpi_data.columns:\n",
    "        mpi_data[indicator] *= indicators_weights[indicator]\n",
    "    score = mpi_data.sum(axis=1)\n",
    "    \n",
    "    return score"
   ]
  },
  {
   "cell_type": "code",
   "execution_count": null,
   "id": "1ee10219-a7e1-4b5f-a815-e6a84649dd55",
   "metadata": {},
   "outputs": [],
   "source": [
    "def censored_deprivation_score(deprivation_score, k):\n",
    "    censored_deprivation_score = np.where(deprivation_score >= k, deprivation_score, 0)\n",
    "    \n",
    "    return censored_deprivation_score"
   ]
  },
  {
   "cell_type": "code",
   "execution_count": null,
   "id": "b5514814-8580-4594-bc39-61c5dae87f35",
   "metadata": {},
   "outputs": [],
   "source": [
    "c_k = censored_deprivation_score(deprivation_score(dimensions_indicators, mpi2023), 26/100)"
   ]
  },
  {
   "cell_type": "code",
   "execution_count": null,
   "id": "f4e822d6-3380-4264-853f-7b2e07e753d5",
   "metadata": {},
   "outputs": [],
   "source": [
    "mpi2023['mpi_poor'] =  np.where(c_k > 0, 1, 0)"
   ]
  },
  {
   "cell_type": "code",
   "execution_count": null,
   "id": "b45fafc2-c636-476a-9719-1923ee2bb2dd",
   "metadata": {},
   "outputs": [],
   "source": [
    "pd.crosstab(mpi2023['pobnopoi'], mpi2023['mpi_poor'])"
   ]
  },
  {
   "cell_type": "code",
   "execution_count": null,
   "id": "ce9ae42e-2087-42fb-b237-e5c4434f9237",
   "metadata": {},
   "outputs": [],
   "source": [
    "nested_indicators = list(dimensions_indicators.values())\n",
    "\n",
    "indicators = []\n",
    "for i in nested_indicators:\n",
    "    indicators.extend(i)"
   ]
  },
  {
   "cell_type": "code",
   "execution_count": null,
   "id": "16d163bb-8673-4196-b252-072c1c24c07e",
   "metadata": {},
   "outputs": [],
   "source": [
    "from sklearn.ensemble import RandomForestClassifier\n",
    "from sklearn.linear_model import LogisticRegression\n",
    "from sklearn import model_selection"
   ]
  },
  {
   "cell_type": "code",
   "execution_count": null,
   "id": "203a2c93-61aa-4f58-923d-840463f84211",
   "metadata": {},
   "outputs": [],
   "source": [
    "X = mpi2023[indicators]\n",
    "Y = mpi2023['pobnopoi']\n",
    "\n",
    "Xtrain, Xtest, ytrain, ytest = model_selection.train_test_split(X,Y,train_size = 0.8, random_state=912)"
   ]
  },
  {
   "cell_type": "code",
   "execution_count": null,
   "id": "eb072b15-4150-446e-9a47-4b1eca316ed5",
   "metadata": {},
   "outputs": [],
   "source": [
    "# Discrete model\n",
    "kfolds = 5\n",
    "sdr = sdr_discrete_graphical_model(c=np.linspace(.1,1,10),ncores=10)\n",
    "#cross_validation_in_prediction(sdr,X,Y,kfolds,AUC,bigger_is_better=True).learn_1fold(0)"
   ]
  },
  {
   "cell_type": "code",
   "execution_count": null,
   "id": "2e8f82e4-1ec3-43a0-86d7-01825cf60c37",
   "metadata": {},
   "outputs": [],
   "source": [
    "ytrain = (ytrain > 0).to_numpy().reshape(-1,1).astype(int)>0\n",
    "Xtrain = (Xtrain).to_numpy().astype(int)>0"
   ]
  },
  {
   "cell_type": "code",
   "execution_count": null,
   "id": "c914043b-3d44-4356-9e7a-de44e6d1e541",
   "metadata": {},
   "outputs": [],
   "source": [
    "cross_validation_in_prediction(sdr,Xtrain,ytrain,kfolds,AUC,bigger_is_better=True).learn()# update sdr object"
   ]
  },
  {
   "cell_type": "code",
   "execution_count": null,
   "id": "e4b8a97e",
   "metadata": {},
   "outputs": [],
   "source": [
    "import pickle\n",
    "\n",
    "with open(\"./models/sdr.pkl\", \"wb\") as f:\n",
    "    pickle.dump(sdr, f)"
   ]
  },
  {
   "cell_type": "code",
   "execution_count": null,
   "id": "2f3910ea",
   "metadata": {},
   "outputs": [],
   "source": [
    "#with open(\"./models/sdr.pkl\", \"rb\") as f:\n",
    "#    sdr = pickle.load(f)"
   ]
  },
  {
   "cell_type": "code",
   "execution_count": null,
   "id": "9f148fc3-9fc4-4a1a-8d13-3d7066b0214a",
   "metadata": {},
   "outputs": [],
   "source": [
    "print(sdr.c,sdr.ne,np.hstack((ytest, sdr.predict(Xtest))))"
   ]
  }
 ],
 "metadata": {
  "kernelspec": {
   "display_name": "Python 3 (ipykernel)",
   "language": "python",
   "name": "python3"
  },
  "language_info": {
   "codemirror_mode": {
    "name": "ipython",
    "version": 3
   },
   "file_extension": ".py",
   "mimetype": "text/x-python",
   "name": "python",
   "nbconvert_exporter": "python",
   "pygments_lexer": "ipython3",
   "version": "3.9.13"
  }
 },
 "nbformat": 4,
 "nbformat_minor": 5
}
